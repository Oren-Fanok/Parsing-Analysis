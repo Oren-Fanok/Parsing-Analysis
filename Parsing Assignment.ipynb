{
 "cells": [
  {
   "cell_type": "code",
   "execution_count": 1,
   "id": "b188088c",
   "metadata": {},
   "outputs": [],
   "source": [
    "import nltk\n",
    "import sqlite3\n",
    "import spacy\n",
    "from subject_object_extraction import findSVOs\n",
    "import collections\n",
    "from collections import Counter"
   ]
  },
  {
   "cell_type": "markdown",
   "id": "80f3bd88",
   "metadata": {},
   "source": [
    "# Read in Convention Speeches (Democratic)"
   ]
  },
  {
   "cell_type": "code",
   "execution_count": 2,
   "id": "6364520e",
   "metadata": {},
   "outputs": [],
   "source": [
    "convention_db = sqlite3.connect('convention.db')\n",
    "convention_cur = convention_db.cursor()"
   ]
  },
  {
   "cell_type": "code",
   "execution_count": 3,
   "id": "f049f341",
   "metadata": {},
   "outputs": [],
   "source": [
    "query_results = convention_cur.execute('''\n",
    "                                        select text\n",
    "                                        FROM conventions\n",
    "                                        where party = 'Democratic'\n",
    "                                        ''')\n"
   ]
  },
  {
   "cell_type": "code",
   "execution_count": 4,
   "id": "2c950d2a",
   "metadata": {},
   "outputs": [],
   "source": [
    "convention_data = []\n",
    "\n",
    "for row in query_results:\n",
    "    text = row\n",
    "    convention_data.append(text)\n"
   ]
  },
  {
   "cell_type": "code",
   "execution_count": 14,
   "id": "6d1ee2f0",
   "metadata": {},
   "outputs": [],
   "source": [
    "#convention_data"
   ]
  },
  {
   "cell_type": "code",
   "execution_count": 6,
   "id": "07aabae0",
   "metadata": {},
   "outputs": [],
   "source": [
    "democratic_string = str(convention_data)"
   ]
  },
  {
   "cell_type": "code",
   "execution_count": 7,
   "id": "bbc8fce6",
   "metadata": {},
   "outputs": [],
   "source": [
    "punct_set = {'[', '(', ')', '\"', \" ' \",}"
   ]
  },
  {
   "cell_type": "code",
   "execution_count": 8,
   "id": "a2b5eb3e",
   "metadata": {},
   "outputs": [],
   "source": [
    "democratic_string = [w for w in democratic_string if w.isalpha and w not in punct_set]"
   ]
  },
  {
   "cell_type": "code",
   "execution_count": 16,
   "id": "4d5bfe96",
   "metadata": {},
   "outputs": [],
   "source": [
    "democratic_string = ''.join(democratic_string)\n"
   ]
  },
  {
   "cell_type": "code",
   "execution_count": 10,
   "id": "4acd4ca8",
   "metadata": {},
   "outputs": [],
   "source": [
    "## now let's set up our parser\n",
    "parser = spacy.load('en_core_web_sm')"
   ]
  },
  {
   "cell_type": "code",
   "execution_count": 11,
   "id": "863b0c79",
   "metadata": {},
   "outputs": [],
   "source": [
    "democratic = parser(democratic_string)"
   ]
  },
  {
   "cell_type": "code",
   "execution_count": 12,
   "id": "fb0a06c2",
   "metadata": {},
   "outputs": [],
   "source": [
    "svos_democratic= (findSVOs(democratic))"
   ]
  },
  {
   "cell_type": "code",
   "execution_count": 13,
   "id": "1fadd5de",
   "metadata": {},
   "outputs": [],
   "source": [
    "count_democratic = Counter(svos_democratic)"
   ]
  },
  {
   "cell_type": "code",
   "execution_count": 14,
   "id": "881a668e",
   "metadata": {},
   "outputs": [
    {
     "data": {
      "text/plain": [
       "[(('it', '’s', 'news'), 32),\n",
       " (('we', 'need', 'president'), 19),\n",
       " (('it', '’s', 'time'), 14),\n",
       " (('we', 'need', 'leader'), 10),\n",
       " (('we', 'elect', 'president'), 9),\n",
       " (('biden', 'has', 'plan'), 8),\n",
       " (('we', 'need', 'biden'), 7),\n",
       " (('we', 'need', 'leaders'), 6),\n",
       " (('we', 'have', 'chance'), 6),\n",
       " (('we', 'do', 'everything'), 6),\n",
       " (('we', 'have', 'president'), 6),\n",
       " (('i', 'know', 'joe'), 6),\n",
       " (('there', '’s', 'lot'), 6),\n",
       " (('me', 'tell', 'you'), 6),\n",
       " (('i', 'love', 'you'), 6),\n",
       " (('he', '’s', 'man'), 5),\n",
       " (('i', 'tell', 'you'), 5),\n",
       " (('there', '’s', 'something'), 5),\n",
       " (('that', '’s', 'kind'), 5),\n",
       " (('i', 'thank', 'you'), 5),\n",
       " (('god', 'bless', 'you'), 5),\n",
       " (('we', 'elect', 'biden'), 5),\n",
       " (('joe', 'bring', 'us'), 5),\n",
       " (('we', 'cast', 'votes'), 5),\n",
       " (('we', 'call', 'audience'), 5)]"
      ]
     },
     "execution_count": 14,
     "metadata": {},
     "output_type": "execute_result"
    }
   ],
   "source": [
    "count_democratic.most_common(25)"
   ]
  },
  {
   "cell_type": "markdown",
   "id": "9632f19f",
   "metadata": {},
   "source": [
    "# # Read in Convention Speeches (Republican)"
   ]
  },
  {
   "cell_type": "code",
   "execution_count": 15,
   "id": "28eb11ac",
   "metadata": {},
   "outputs": [],
   "source": [
    "query_results1 = convention_cur.execute('''\n",
    "                                        select text\n",
    "                                        FROM conventions\n",
    "                                        where party = 'Republican'\n",
    "                                        ''')"
   ]
  },
  {
   "cell_type": "code",
   "execution_count": 16,
   "id": "8a1070f3",
   "metadata": {},
   "outputs": [],
   "source": [
    "convention_data2 = []\n",
    "\n",
    "for row in query_results1:\n",
    "    text = row\n",
    "    convention_data2.append(text)\n"
   ]
  },
  {
   "cell_type": "code",
   "execution_count": 17,
   "id": "2fbe5b8b",
   "metadata": {},
   "outputs": [],
   "source": [
    "republican_string = str(convention_data2)"
   ]
  },
  {
   "cell_type": "code",
   "execution_count": 18,
   "id": "13a07dbe",
   "metadata": {},
   "outputs": [],
   "source": [
    "punct_set = {'[', '(', ')', '\"', \" ' \",}"
   ]
  },
  {
   "cell_type": "code",
   "execution_count": 19,
   "id": "101595a0",
   "metadata": {},
   "outputs": [],
   "source": [
    "republican_string = [w for w in republican_string if w.isalpha and w not in punct_set]"
   ]
  },
  {
   "cell_type": "code",
   "execution_count": 20,
   "id": "9805f9ff",
   "metadata": {},
   "outputs": [],
   "source": [
    "republican_string = ''.join(republican_string)\n"
   ]
  },
  {
   "cell_type": "code",
   "execution_count": 21,
   "id": "08b0cfed",
   "metadata": {},
   "outputs": [],
   "source": [
    "## now let's set up our parser\n",
    "parser = spacy.load('en_core_web_sm')"
   ]
  },
  {
   "cell_type": "code",
   "execution_count": 22,
   "id": "09053c28",
   "metadata": {},
   "outputs": [],
   "source": [
    "republican = parser(republican_string)"
   ]
  },
  {
   "cell_type": "code",
   "execution_count": 23,
   "id": "e2a1fba7",
   "metadata": {},
   "outputs": [],
   "source": [
    "svo_republican = (findSVOs(republican))"
   ]
  },
  {
   "cell_type": "code",
   "execution_count": 24,
   "id": "48414477",
   "metadata": {},
   "outputs": [],
   "source": [
    "repub_count = Counter(svo_republican)"
   ]
  },
  {
   "cell_type": "code",
   "execution_count": 25,
   "id": "a8c65eac",
   "metadata": {
    "scrolled": true
   },
   "outputs": [
    {
     "data": {
      "text/plain": [
       "[(('it', '’s', 'news'), 30),\n",
       " (('god', 'bless', 'america'), 19),\n",
       " (('i', 'tell', 'you'), 17),\n",
       " (('god', 'bless', 'you'), 17),\n",
       " (('god', 'bless', 'states'), 14),\n",
       " (('we', 'thank', 'you'), 9),\n",
       " (('he', 'do', 'it'), 7),\n",
       " (('i', 'thank', 'you'), 6),\n",
       " (('it', '’s', 'honor'), 6),\n",
       " (('we', 'have', 'president'), 6),\n",
       " (('i', 'pledge', 'allegiance'), 5),\n",
       " (('i', 'pledge', 'flag'), 5),\n",
       " (('i', 'speaking', 'you'), 5),\n",
       " (('i', 'promise', 'you'), 5),\n",
       " (('you', 'have', 'it'), 5),\n",
       " (('i', 'support', 'trump'), 5),\n",
       " (('father', 'fight', 'you'), 5),\n",
       " (('i', 'love', 'you'), 5),\n",
       " (('me', 'tell', 'you'), 4),\n",
       " (('god', 'bless', 'evening'), 4),\n",
       " (('who', 'loves', 'country'), 4),\n",
       " (('men', 'created', 'equal'), 4),\n",
       " (('trump', 'built', 'economy'), 4),\n",
       " (('it', 'works', 'overview'), 4),\n",
       " (('it', 'works', 'request'), 4)]"
      ]
     },
     "execution_count": 25,
     "metadata": {},
     "output_type": "execute_result"
    }
   ],
   "source": [
    "repub_count.most_common(25)"
   ]
  },
  {
   "cell_type": "markdown",
   "id": "e6c0fd8f",
   "metadata": {},
   "source": [
    "# Comparison / Final Results"
   ]
  },
  {
   "cell_type": "code",
   "execution_count": 26,
   "id": "c1db7ca6",
   "metadata": {},
   "outputs": [
    {
     "data": {
      "text/plain": [
       "[(('it', '’s', 'news'), 32),\n",
       " (('we', 'need', 'president'), 19),\n",
       " (('it', '’s', 'time'), 14),\n",
       " (('we', 'need', 'leader'), 10),\n",
       " (('we', 'elect', 'president'), 9),\n",
       " (('biden', 'has', 'plan'), 8),\n",
       " (('we', 'need', 'biden'), 7),\n",
       " (('we', 'need', 'leaders'), 6),\n",
       " (('we', 'have', 'chance'), 6),\n",
       " (('we', 'do', 'everything'), 6),\n",
       " (('we', 'have', 'president'), 6),\n",
       " (('i', 'know', 'joe'), 6),\n",
       " (('there', '’s', 'lot'), 6),\n",
       " (('me', 'tell', 'you'), 6),\n",
       " (('i', 'love', 'you'), 6),\n",
       " (('he', '’s', 'man'), 5),\n",
       " (('i', 'tell', 'you'), 5),\n",
       " (('there', '’s', 'something'), 5),\n",
       " (('that', '’s', 'kind'), 5),\n",
       " (('i', 'thank', 'you'), 5),\n",
       " (('god', 'bless', 'you'), 5),\n",
       " (('we', 'elect', 'biden'), 5),\n",
       " (('joe', 'bring', 'us'), 5),\n",
       " (('we', 'cast', 'votes'), 5),\n",
       " (('we', 'call', 'audience'), 5)]"
      ]
     },
     "execution_count": 26,
     "metadata": {},
     "output_type": "execute_result"
    }
   ],
   "source": [
    "count_democratic.most_common(25)"
   ]
  },
  {
   "cell_type": "code",
   "execution_count": 27,
   "id": "bb926e82",
   "metadata": {},
   "outputs": [
    {
     "data": {
      "text/plain": [
       "[(('it', '’s', 'news'), 30),\n",
       " (('god', 'bless', 'america'), 19),\n",
       " (('i', 'tell', 'you'), 17),\n",
       " (('god', 'bless', 'you'), 17),\n",
       " (('god', 'bless', 'states'), 14),\n",
       " (('we', 'thank', 'you'), 9),\n",
       " (('he', 'do', 'it'), 7),\n",
       " (('i', 'thank', 'you'), 6),\n",
       " (('it', '’s', 'honor'), 6),\n",
       " (('we', 'have', 'president'), 6),\n",
       " (('i', 'pledge', 'allegiance'), 5),\n",
       " (('i', 'pledge', 'flag'), 5),\n",
       " (('i', 'speaking', 'you'), 5),\n",
       " (('i', 'promise', 'you'), 5),\n",
       " (('you', 'have', 'it'), 5),\n",
       " (('i', 'support', 'trump'), 5),\n",
       " (('father', 'fight', 'you'), 5),\n",
       " (('i', 'love', 'you'), 5),\n",
       " (('me', 'tell', 'you'), 4),\n",
       " (('god', 'bless', 'evening'), 4),\n",
       " (('who', 'loves', 'country'), 4),\n",
       " (('men', 'created', 'equal'), 4),\n",
       " (('trump', 'built', 'economy'), 4),\n",
       " (('it', 'works', 'overview'), 4),\n",
       " (('it', 'works', 'request'), 4)]"
      ]
     },
     "execution_count": 27,
     "metadata": {},
     "output_type": "execute_result"
    }
   ],
   "source": [
    "repub_count.most_common(25)"
   ]
  },
  {
   "cell_type": "markdown",
   "id": "389ff00e",
   "metadata": {},
   "source": [
    "The republican SVO's are more centered around God, there is a strong propensity in the top 5 to appeal to Christian values, \"god bless you\", \"god bless states\", \"god bless America\". While in the democratic SVO's we a party vying for a return to somewhat normal state of politics. Here we see, \"we need president\", \"we need leader\", \"we elect president\"."
   ]
  }
 ],
 "metadata": {
  "kernelspec": {
   "display_name": "Python 3 (ipykernel)",
   "language": "python",
   "name": "python3"
  },
  "language_info": {
   "codemirror_mode": {
    "name": "ipython",
    "version": 3
   },
   "file_extension": ".py",
   "mimetype": "text/x-python",
   "name": "python",
   "nbconvert_exporter": "python",
   "pygments_lexer": "ipython3",
   "version": "3.9.13"
  }
 },
 "nbformat": 4,
 "nbformat_minor": 5
}
